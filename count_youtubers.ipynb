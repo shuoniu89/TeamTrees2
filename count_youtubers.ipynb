{
 "cells": [
  {
   "cell_type": "code",
   "execution_count": 9,
   "metadata": {},
   "outputs": [
    {
     "name": "stdout",
     "output_type": "stream",
     "text": [
      "1    412\n",
      "2     11\n",
      "4      2\n",
      "8      1\n",
      "6      1\n",
      "5      1\n",
      "3      1\n",
      "Name: video_id, dtype: int64\n",
      "Stream - R Λ Z Ξ           8\n",
      "Market Power               6\n",
      "Xioty Sev                  5\n",
      "NICO_THE_PRO               4\n",
      "vidIQ                      4\n",
      "                          ..\n",
      "MyUsernamesThis            1\n",
      "Little Cat                 1\n",
      "Allanah The Voice Actor    1\n",
      "Captain Argonut 24         1\n",
      "SageTheMemer               1\n",
      "Name: channel_name, Length: 429, dtype: int64\n"
     ]
    }
   ],
   "source": [
    "import pandas as pd\n",
    "from collections import Counter\n",
    "df=pd.read_csv(\"./KEY/final_meta_all_processed - no other.csv\")\n",
    "# print(Counter(df[\"video_id\"]))\n",
    "new_df=df.groupby(\"channel_name\").video_id.count()\n",
    "new_df=new_df.sort_values(ascending=False)\n",
    "print(new_df.value_counts())\n",
    "print(df.channel_name.value_counts())"
   ]
  },
  {
   "cell_type": "code",
   "execution_count": 10,
   "metadata": {},
   "outputs": [
    {
     "name": "stdout",
     "output_type": "stream",
     "text": [
      "161692572\n",
      "amateur 0.0016803740372192237\n",
      "celebrity 0.9188475522549051\n",
      "professional 0.0794720737078757\n",
      "amateur 0.006391271798674223\n",
      "celebrity 0.8729532542523787\n",
      "professional 0.12065547394894713\n",
      "698609\n"
     ]
    }
   ],
   "source": [
    "su=df.vw_ct.sum()\n",
    "ndf=df.groupby(\"status\").vw_ct.sum()\n",
    "print(su)\n",
    "for s,c in ndf.items():\n",
    "    print(s, c/su)\n",
    "su=df.cmnt_ct.sum()\n",
    "ndf=df.groupby(\"status\").cmnt_ct.sum()\n",
    "for s,c in ndf.items():\n",
    "    print(s, c/su)\n",
    "print(su)"
   ]
  },
  {
   "cell_type": "code",
   "execution_count": 56,
   "metadata": {},
   "outputs": [
    {
     "name": "stdout",
     "output_type": "stream",
     "text": [
      "mrbeast 0.5961123110151187\n",
      "arborday 0.3304535637149028\n",
      "teamtrees_org 0.7192224622030238\n",
      "noteble_youtuber 0.14254859611231102\n",
      "noteble_entrepreneur 0.09503239740820735\n"
     ]
    }
   ],
   "source": [
    "keys=[\"mrbeast\",\"arborday\",\"teamtrees_org\",\"noteble_youtuber\",\"noteble_entrepreneur\"]\n",
    "for k in keys:\n",
    "    yns=df[k].value_counts()\n",
    "    percent=yns[\"y\"]/(yns[\"y\"]+yns[\"n\"])\n",
    "    print(k,percent)"
   ]
  },
  {
   "cell_type": "code",
   "execution_count": 64,
   "metadata": {},
   "outputs": [
    {
     "data": {
      "text/plain": [
       "2    142\n",
       "1    117\n",
       "3     94\n",
       "0     65\n",
       "4     36\n",
       "5      9\n",
       "Name: mention_count, dtype: int64"
      ]
     },
     "execution_count": 64,
     "metadata": {},
     "output_type": "execute_result"
    }
   ],
   "source": [
    "df.mention_count.value_counts()"
   ]
  }
 ],
 "metadata": {
  "kernelspec": {
   "display_name": "Python 3",
   "language": "python",
   "name": "python3"
  },
  "language_info": {
   "codemirror_mode": {
    "name": "ipython",
    "version": 3
   },
   "file_extension": ".py",
   "mimetype": "text/x-python",
   "name": "python",
   "nbconvert_exporter": "python",
   "pygments_lexer": "ipython3",
   "version": "3.7.4"
  }
 },
 "nbformat": 4,
 "nbformat_minor": 2
}
