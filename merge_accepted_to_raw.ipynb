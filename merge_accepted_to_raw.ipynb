{
 "cells": [
  {
   "cell_type": "code",
   "execution_count": 1,
   "metadata": {},
   "outputs": [
    {
     "name": "stdout",
     "output_type": "stream",
     "text": [
      "total videos: 518\n",
      "total wrong data: 48\n",
      "total accepted: 470\n",
      "total final data in meta: 470\n"
     ]
    }
   ],
   "source": [
    "#@version: 2/18/20\n",
    "\n",
    "import csv \n",
    "import os\n",
    "import json\n",
    "from collections import defaultdict\n",
    "\n",
    "result_path = \"./KEY/\"\n",
    "\n",
    "data = []\n",
    "wrong_data=[]\n",
    "with open(result_path + \"video_meta_data.csv\",\"r+\", encoding=\"utf-8\") as csv_file:\n",
    "    csv_reader = csv.DictReader(csv_file)\n",
    "    for row in csv_reader:\n",
    "        data.append(row)\n",
    "        \n",
    "print(f\"total videos: {len(data)}\")\n",
    "\n",
    "with open(result_path + \"broken_data.csv\", encoding=\"utf-8\") as fp:\n",
    "    csv_reader = csv.DictReader(fp)\n",
    "    for row in csv_reader:\n",
    "        wrong_data.append(row)\n",
    "\n",
    "wrong_data=[d[\"video_url\"] for d in wrong_data]\n",
    "data = [d for d in data if d[\"emb_url\"] not in wrong_data]\n",
    "print(f\"total wrong data: {len(wrong_data)}\")\n",
    "\n",
    "url_dict = defaultdict(list)\n",
    "for d in data:\n",
    "    url_dict[d[\"emb_url\"]].append(d)\n",
    "\n",
    "# print(url_dict)\n",
    "\n",
    "accepted_data = []\n",
    "with open(result_path + \"final_accepted_taggings_changegame.csv\",\"r+\", encoding=\"utf-8\") as csv_file:\n",
    "    csv_reader = csv.DictReader(csv_file)\n",
    "    for row in csv_reader:\n",
    "        accepted_data.append(row)\n",
    "#print(accepted_data[0].items())\n",
    "#print(accepted_data)\n",
    "#print(list(accepted_data[0].items())[0:3])\n",
    "\n",
    "accepted_url = [d[\"VIDEO_URL\"] for d in accepted_data]\n",
    "print(f\"total accepted: {len(accepted_url)}\")\n",
    "\n",
    "\n",
    "for url in url_dict:\n",
    "    list_temp = []\n",
    "    for d in accepted_data:\n",
    "        #print(d.items())\n",
    "        if (d[\"VIDEO_URL\"] == url):\n",
    "            list_temp = [tup for tup in d.items() if tup[0] != \"VIDEO_URL\"]                \n",
    "            break\n",
    "    for i in range(len(list_temp)):\n",
    "            url_dict[url][0][list_temp[i][0]]= list_temp[i][1] \n",
    "#print(json.dumps(data, indent = 2))\n",
    "print(f\"total final data in meta: {len(url_dict)}\")\n",
    "#print(url_dict)"
   ]
  },
  {
   "cell_type": "code",
   "execution_count": 2,
   "metadata": {},
   "outputs": [],
   "source": [
    "with open(result_path + \"final_meta_all.csv\", mode='w', encoding=\"utf-8\") as csv_result:\n",
    "    csv_writer = csv.writer(csv_result,\n",
    "                            delimiter = \",\",\n",
    "                            quotechar = '\"',\n",
    "                            quoting = csv.QUOTE_MINIMAL,\n",
    "                            lineterminator = \"\\n\")\n",
    "\n",
    "    isFirst = True\n",
    "    for i in url_dict.keys():\n",
    "        if isFirst:\n",
    "            header = list(url_dict[i][0])\n",
    "            csv_writer.writerow(header)\n",
    "            isFirst = False\n",
    "        csv_writer.writerow(url_dict[i][0].values())"
   ]
  }
 ],
 "metadata": {
  "kernelspec": {
   "display_name": "Python 3",
   "language": "python",
   "name": "python3"
  },
  "language_info": {
   "codemirror_mode": {
    "name": "ipython",
    "version": 3
   },
   "file_extension": ".py",
   "mimetype": "text/x-python",
   "name": "python",
   "nbconvert_exporter": "python",
   "pygments_lexer": "ipython3",
   "version": "3.7.4"
  }
 },
 "nbformat": 4,
 "nbformat_minor": 2
}
