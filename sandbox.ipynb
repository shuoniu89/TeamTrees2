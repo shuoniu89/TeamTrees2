{
 "cells": [
  {
   "cell_type": "code",
   "execution_count": 27,
   "metadata": {},
   "outputs": [
    {
     "data": {
      "text/plain": [
       "'TeamTrees2'"
      ]
     },
     "execution_count": 27,
     "metadata": {},
     "output_type": "execute_result"
    }
   ],
   "source": [
    "import os\n",
    "\n",
    "# search_key = [\"a\"]\n",
    "# my = [\"a\", \"b\", \"c\", \"d\"]\n",
    "# basename_list = [direc for direc in my\n",
    "#                 if (len(search_key) > 0 and direc in search_key) or len(search_key) == 0]\n",
    "# basename_list\n",
    "\n",
    "# for i in range(0,3):\n",
    "#     writer = open(\"testingdummy.txt\", 'a+')\n",
    "#     writer.write(\"high\\n\")\n",
    "\n",
    "directory = \"YouTube\"\n",
    "if not directory.endswith(\"/\"):\n",
    "    directory = directory+\"/\"\n",
    "os.path.basename(os.getcwd())"
   ]
  }
 ],
 "metadata": {
  "kernelspec": {
   "display_name": "Python 3",
   "language": "python",
   "name": "python3"
  },
  "language_info": {
   "codemirror_mode": {
    "name": "ipython",
    "version": 3
   },
   "file_extension": ".py",
   "mimetype": "text/x-python",
   "name": "python",
   "nbconvert_exporter": "python",
   "pygments_lexer": "ipython3",
   "version": "3.7.6"
  }
 },
 "nbformat": 4,
 "nbformat_minor": 4
}
