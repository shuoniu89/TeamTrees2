{
 "cells": [
  {
   "cell_type": "code",
   "execution_count": 9,
   "metadata": {},
   "outputs": [],
   "source": [
    "import pandas as pd\n",
    "df=pd.read_excel(\"final_meta_all_processed - no other.xlsx\")"
   ]
  },
  {
   "cell_type": "code",
   "execution_count": 18,
   "metadata": {},
   "outputs": [],
   "source": [
    "statues=list(df[\"status\"].unique())\n",
    "styles=list(df[\"tagging\"].unique())\n",
    "for index, row in df.iterrows():\n",
    "    for st in statues:\n",
    "        if st==row[\"status\"]:\n",
    "            df.loc[index, st]=1\n",
    "        else:\n",
    "            df.loc[index,st]=0\n",
    "    for sl in styles:\n",
    "        if sl==row[\"tagging\"]:\n",
    "            df.loc[index, sl]=1\n",
    "        else:\n",
    "            df.loc[index,sl]=0\n",
    "df.to_excel(\"final_meta_all_processed - dummy.xlsx\", index=False)"
   ]
  },
  {
   "cell_type": "code",
   "execution_count": 19,
   "metadata": {},
   "outputs": [],
   "source": [
    "from datetime import datetime\n",
    "import dateutil.parser\n",
    "df=pd.read_excel(\"final_meta_all_processed - dummy.xlsx\")\n",
    "for index,row in df.iterrows():\n",
    "    time=row[\"publish_at\"]\n",
    "    date1=dateutil.parser.isoparse(time)\n",
    "    date2=dateutil.parser.isoparse(\"2020-01-08T00:00:00.000Z\")\n",
    "    df.loc[index,\"on_youtube_days\"]=(date2-date1).days\n",
    "df.to_excel(\"final_meta_all_processed - dummy+days.xlsx\", index=False)"
   ]
  },
  {
   "cell_type": "code",
   "execution_count": 14,
   "metadata": {},
   "outputs": [],
   "source": [
    "df=pd.read_excel(\"final_meta_all_processed - dummy+days.xlsx\")\n",
    "cmnt_rt=df[\"comment_count\"]/df[\"view_count\"]*100\n",
    "df.insert (22, \"rel_cmnt\", cmnt_rt)\n",
    "df.to_excel(\"final_meta_all_processed - dummy+days+cmntrt.xlsx\", index=False)"
   ]
  }
 ],
 "metadata": {
  "kernelspec": {
   "display_name": "Python 3",
   "language": "python",
   "name": "python3"
  },
  "language_info": {
   "codemirror_mode": {
    "name": "ipython",
    "version": 3
   },
   "file_extension": ".py",
   "mimetype": "text/x-python",
   "name": "python",
   "nbconvert_exporter": "python",
   "pygments_lexer": "ipython3",
   "version": "3.7.4"
  }
 },
 "nbformat": 4,
 "nbformat_minor": 2
}
