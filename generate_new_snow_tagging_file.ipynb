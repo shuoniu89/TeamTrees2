{
 "cells": [
  {
   "cell_type": "code",
   "execution_count": 21,
   "metadata": {},
   "outputs": [
    {
     "name": "stdout",
     "output_type": "stream",
     "text": [
      "220\n"
     ]
    }
   ],
   "source": [
    "import pandas as pd\n",
    "import random\n",
    "import os\n",
    "import math\n",
    "\n",
    "n = 50\n",
    "ROUND = 4_1\n",
    "\n",
    "#read tagged urls\n",
    "df_tagged = pd.read_csv(\"Snow_Tagging/snowtagged.csv\")\n",
    "assert(df_tagged['videoId'].is_unique)\n",
    "print(len(df_tagged))\n",
    "tagged_id_list = [i for i in df_tagged[\"videoId\"]]\n"
   ]
  },
  {
   "cell_type": "code",
   "execution_count": 25,
   "metadata": {},
   "outputs": [
    {
     "name": "stdout",
     "output_type": "stream",
     "text": [
      "error list size: 15\n"
     ]
    },
    {
     "data": {
      "text/plain": [
       "1445"
      ]
     },
     "execution_count": 25,
     "metadata": {},
     "output_type": "execute_result"
    }
   ],
   "source": [
    "def get_status(sub):\n",
    "    if sub == -1:\n",
    "        return \"error\"\n",
    "    if sub>=1000000:\n",
    "        return \"celebrity\"\n",
    "    elif 10000<=sub<1000000:\n",
    "        return \"professional\"\n",
    "    else:\n",
    "        return \"amateur\"\n",
    "    \n",
    "df_channel = pd.read_csv(\"YouTube_CSV/channel_FINAL_merged_teamtrees.csv\")\n",
    "def fetch_subscriber_count(channel_id):\n",
    "    return df_channel.loc[df_channel[\"channelId\"] == channel_id][\"subscriberCount\"].item()\n",
    "        \n",
    "    \n",
    "#read from final data and shuffle video id list, removing invalid id and tagged id\n",
    "df = pd.read_csv(\"YouTube_CSV/video_FINAL_merged_teamtrees.csv\")\n",
    "status_list = [get_status(fetch_subscriber_count(channelId)) for channelId in df[\"channelId\"]]\n",
    "error_list = [x for x in status_list if x!= \"celebrity\" if x!= \"professional\" if x!= \"amateur\"]\n",
    "print(f\"error list size: {len(error_list)}\")\n",
    "df[\"status\"] = status_list\n",
    "\n",
    "df_celeb = df.loc[df[\"status\"]==\"celebrity\"]\n",
    "df_pro = df.loc[df[\"status\"]==\"professional\"]\n",
    "df_ama = df.loc[df[\"status\"]==\"amateur\"]\n",
    "\n",
    "#generate videoid list\n",
    "celeb_id = [i for i in list(df_celeb[\"videoId\"]) if i is not \"#NAME?\" and i not in tagged_id_list]\n",
    "pro_id = [i for i in list(df_pro[\"videoId\"]) if i is not \"#NAME?\" and i not in tagged_id_list]\n",
    "ama_id = [i for i in list(df_ama[\"videoId\"]) if i is not \"#NAME?\" and i not in tagged_id_list]\n",
    "videoid = random.sample(celeb_id, 17) + random.sample(pro_id, 17) + random.sample(ama_id, 16)\n",
    "random.shuffle(videoid)\n",
    "\n",
    "cols = [\"embedUrl\",\n",
    "       \"videoId\",\n",
    "       \"title\",\n",
    "       \"isIncluded\",\n",
    "       \"diagnostic\",\n",
    "        \"mention\",\n",
    "       \"prognostic\",\n",
    "       \"motivational_action\",\n",
    "       \"motivational_rationale\"]\n",
    "\n",
    "# videoid = list(df[\"videoId\"])\n",
    "# videoid = [i for i in videoid if i is not \"#NAME?\" and i not in tagged_id_list]\n",
    "\n",
    "\n",
    "#convert to df and save to csv, add them to snowtagged.csv\n",
    "cat_ids = [i for i in videoid[:n]]\n",
    "# niu_ids = [i for i in videoid[n:n*2]]\n",
    "# kathy_ids = [i for i in videoid[n*2:n*3]]\n",
    "\n",
    "def generate_df(id_list):\n",
    "    data = []\n",
    "    embedUrl = [\"https://www.youtube.com/embed/\"+i[1:] for i in id_list]\n",
    "    title = [str(df.loc[df[\"videoId\"]==i][\"title\"].item()) for i in id_list]\n",
    "    videoId = [i for i in id_list]\n",
    "    data = [embedUrl, videoId, title, [], [], [], [], [], []]\n",
    "    return data\n",
    "\n",
    "df_cat = pd.DataFrame(generate_df(cat_ids)).transpose()\n",
    "# df_niu = pd.DataFrame([[\"https://www.youtube.com/watch?v=\"+i for i in niu_ids],[],[],[]]).transpose()\n",
    "# df_kathy = pd.DataFrame([[\"https://www.youtube.com/watch?v=\"+i for i in kathy_ids],[],[],[]]).transpose()\n",
    "df_cat.columns = cols\n",
    "# df_niu.columns = cols\n",
    "# df_kathy.columns = cols\n",
    "df_cat.to_csv(f\"Snow_Tagging/SnowTagging_Cat_ROUND{ROUND}.csv\", index=False)\n",
    "df_cat.to_csv(f\"Snow_Tagging/SnowTagging_Niu_ROUND{ROUND}.csv\", index=False)\n",
    "df_cat.to_csv(f\"Snow_Tagging/SnowTagging_Kathy_ROUND{ROUND}.csv\", index=False)\n",
    "# df_niu.to_csv(f\"SnowTagging_Niu_ROUND{ROUND}.csv\", index=False)\n",
    "# df_kathy.to_csv(f\"SnowTagging_Kathy_ROUND{ROUND}.csv\", index=False)\n",
    "\n"
   ]
  },
  {
   "cell_type": "code",
   "execution_count": 20,
   "metadata": {},
   "outputs": [],
   "source": [
    "new_urls = [\"https://www.youtube.com/embed/\"+i[1:] for i in cat_ids]\n",
    "new_ids = [i for i in cat_ids]\n",
    "df_new = pd.DataFrame([new_urls,new_ids]).transpose()\n",
    "df_new.columns = [\"video_url\",\"videoId\"]\n",
    "df_new.to_csv(\"Snow_Tagging/snowtagged.csv\", mode='a', header=False, index=False)"
   ]
  },
  {
   "cell_type": "code",
   "execution_count": 33,
   "metadata": {},
   "outputs": [
    {
     "data": {
      "text/plain": [
       "['https://www.youtube.com/embed/JnY4IpLU0EY',\n",
       " 'https://www.youtube.com/embed/ut7KVg04Xng']"
      ]
     },
     "execution_count": 33,
     "metadata": {},
     "output_type": "execute_result"
    }
   ],
   "source": [
    "import pandas as pd\n",
    "from collections import Counter\n",
    "\n",
    "# checking if all the tagged videos match with stored tagged data\n",
    "\n",
    "df_tagged = pd.read_csv(\"snowtagged.csv\")\n",
    "tagged_url_list = [i.replace(\"https://www.youtube.com/watch?v=:\",\"https://www.youtube.com/embed/\") for i in df_tagged.video_url]\n",
    "assert(df_tagged['video_url'].is_unique)\n",
    "\n",
    "df_cat = pd.read_csv(\"SnowTagging_Cat_ROUND2_tagged.csv\")\n",
    "df_kathy = pd.read_csv(\"SnowTagging_Kathy_ROUND2_tagged.csv\")\n",
    "df_niu = pd.read_csv(\"SnowTagging_Niu_ROUND2_tagged.csv\")\n",
    "\n",
    "cat_url = [i for i in df_cat[\"video_url\"]]\n",
    "niu_url = [i for i in df_niu[\"video_url\"]]\n",
    "kathy_url = [i for i in df_kathy[\"video_url\"]]\n",
    "\n",
    "total = cat_url + kathy_url + niu_url\n",
    "assert(pd.Series(total).is_unique)\n",
    "Counter(tagged_url_list) == Counter(total)\n",
    "\n",
    "df_round3 = pd.read_csv(\"SnowTagging_Cat_ROUND3.csv\")\n",
    "url_round3 = [i for i in df_round3[\"embedUrl\"]]\n",
    "total = tagged_url_list = [i.replace(\"https://www.youtube.com/watch?v=\",\"https://www.youtube.com/embed/\") for i in total]\n",
    "duplicate = [i for i in url_round3 if i in total]\n",
    "duplicate\n",
    "\n"
   ]
  }
 ],
 "metadata": {
  "kernelspec": {
   "display_name": "Python 3",
   "language": "python",
   "name": "python3"
  },
  "language_info": {
   "codemirror_mode": {
    "name": "ipython",
    "version": 3
   },
   "file_extension": ".py",
   "mimetype": "text/x-python",
   "name": "python",
   "nbconvert_exporter": "python",
   "pygments_lexer": "ipython3",
   "version": "3.7.6"
  }
 },
 "nbformat": 4,
 "nbformat_minor": 4
}
