{
 "cells": [
  {
   "cell_type": "code",
   "execution_count": 1,
   "metadata": {},
   "outputs": [
    {
     "data": {
      "text/plain": [
       "100"
      ]
     },
     "execution_count": 1,
     "metadata": {},
     "output_type": "execute_result"
    }
   ],
   "source": [
    "import pandas as pd\n",
    "import random\n",
    "import os\n",
    "import math\n",
    "\n",
    "n = 350\n",
    "ROUND = \"5\"\n",
    "\n",
    "#read tagged urls\n",
    "# df_tagged = pd.read_csv(\"Snow_Tagging/snowtagged.csv\")\n",
    "# assert(df_tagged['videoId'].is_unique)\n",
    "# print(len(df_tagged))\n",
    "# tagged_id_list = [i for i in df_tagged[\"videoId\"]]\n",
    "\n",
    "# last_2_rounds\n",
    "round41 = pd.read_csv(\"Snow_Tagging/SnowTagging_Niu_ROUND4_1_tagged.csv\")\n",
    "round42 = pd.read_csv(\"Snow_Tagging/SnowTagging_Niu_ROUND4_2_tagged.csv\")\n",
    "df_confirmed=pd.concat([round41,round42],axis=0)\n",
    "\n",
    "exclusion=[\":mwOOXLC23BE\", \":Dg1v4Yi9xN0\", \":sxz-xvr-7cs\", \":AOWs0WN6aNQ\", \":ei4AoxZsA0M\", \":IgGuIOGB2PI\",\n",
    "          \":qvSqdiW0Jl0\", \":YwqcsYLCGyI\", \":tPqwtz3gz_I\", \":B4tfjOfa63Q\"]\n",
    "df_confirmed = df_confirmed.loc[~df_confirmed.videoId.isin(exclusion)].reset_index()\n",
    "\n",
    "len(df_confirmed)\n",
    "tagged_id_list = [i for i in df_confirmed[\"videoId\"]]\n",
    "len(tagged_id_list)"
   ]
  },
  {
   "cell_type": "code",
   "execution_count": 2,
   "metadata": {},
   "outputs": [
    {
     "name": "stdout",
     "output_type": "stream",
     "text": [
      "350\n",
      "350\n",
      "243\n"
     ]
    }
   ],
   "source": [
    "#read from final data and shuffle video id list, removing invalid id and tagged id\n",
    "df = pd.read_csv(\"YouTube_CSV/video_filtered_teamtrees.csv\")\n",
    "videoid = [i for i in df[\"videoId\"] if i not in tagged_id_list]\n",
    "\n",
    "random.shuffle(videoid)\n",
    "\n",
    "cols = [\"embedUrl\",\n",
    "        \"videoId\",\n",
    "        \"title\",\n",
    "        \"isIncluded\",\n",
    "        \"diagnostic\",\n",
    "        \"mention\",\n",
    "        \"prognostic\",\n",
    "        \"motivational_action\",\n",
    "        \"motivational_rationale\"]\n",
    "\n",
    "\n",
    "#convert to df and save to csv, add them to snowtagged.csv\n",
    "cat_ids = videoid[:n]\n",
    "niu_ids = videoid[n:n*2]\n",
    "kathy_ids = [i for i in videoid if i not in cat_ids and i not in niu_ids]\n",
    "print(len(cat_ids))\n",
    "print(len(niu_ids))\n",
    "print(len(kathy_ids))\n",
    "\n",
    "def generate_df(id_list):\n",
    "    data = []\n",
    "    embedUrl = [\"https://www.youtube.com/embed/\"+i[1:] for i in id_list]\n",
    "    title = [str(df.loc[df[\"videoId\"]==i][\"title\"].item()) for i in id_list]\n",
    "    videoId = [i for i in id_list]\n",
    "    data = [embedUrl, videoId, title, [], [], [], [], [], []]\n",
    "    return data\n",
    "\n",
    "df_cat = pd.DataFrame(generate_df(cat_ids)).transpose()\n",
    "df_niu = pd.DataFrame(generate_df(niu_ids)).transpose()\n",
    "df_kathy = pd.DataFrame(generate_df(kathy_ids)).transpose()\n",
    "df_cat.columns = cols\n",
    "df_niu.columns = cols\n",
    "df_kathy.columns = cols\n",
    "df_cat.to_csv(f\"Snow_Tagging/SnowTagging_Cat_ROUND{ROUND}.csv\", index=False)\n",
    "df_niu.to_csv(f\"Snow_Tagging/SnowTagging_Niu_ROUND{ROUND}.csv\", index=False)\n",
    "df_kathy.to_csv(f\"Snow_Tagging/SnowTagging_Kathy_ROUND{ROUND}.csv\", index=False)\n"
   ]
  },
  {
   "cell_type": "code",
   "execution_count": 3,
   "metadata": {},
   "outputs": [
    {
     "data": {
      "text/plain": [
       "[':8ZsHkUyxC5M',\n",
       " ':MoAf9mnp8T4',\n",
       " ':_DF6nucQFOI',\n",
       " ':_Xw9Av0mCcc',\n",
       " ':mkWW4Q2Y6aI',\n",
       " ':WP00kVLoy7A',\n",
       " ':cNl4960ZOjU',\n",
       " ':yLKn0BjHm3c',\n",
       " ':GbetzV4l4CY']"
      ]
     },
     "execution_count": 3,
     "metadata": {},
     "output_type": "execute_result"
    }
   ],
   "source": [
    "df = pd.read_csv(\"YouTube_CSV/video_filtered_teamtrees.csv\")\n",
    "not_filtered = [i for i in tagged_id_list if i not in list(df[\"videoId\"])]\n",
    "len(not_filtered)\n",
    "280+700+128-1034\n",
    "len(df)\n",
    "a = [i for i in tagged_id_list if i not in list(df[\"videoId\"])]\n",
    "a"
   ]
  },
  {
   "cell_type": "code",
   "execution_count": 4,
   "metadata": {},
   "outputs": [],
   "source": [
    "new_urls = [\"https://www.youtube.com/embed/\"+i[1:] for i in cat_ids]\n",
    "new_ids = [i for i in cat_ids]\n",
    "df_new = pd.DataFrame([new_urls,new_ids]).transpose()\n",
    "df_new.columns = [\"video_url\",\"videoId\"]\n",
    "df_new.to_csv(\"Snow_Tagging/snowtagged.csv\", mode='a', header=False, index=False)"
   ]
  },
  {
   "cell_type": "code",
   "execution_count": 5,
   "metadata": {},
   "outputs": [
    {
     "ename": "FileNotFoundError",
     "evalue": "[Errno 2] File snowtagged.csv does not exist: 'snowtagged.csv'",
     "output_type": "error",
     "traceback": [
      "\u001b[1;31m---------------------------------------------------------------------------\u001b[0m",
      "\u001b[1;31mFileNotFoundError\u001b[0m                         Traceback (most recent call last)",
      "\u001b[1;32m<ipython-input-5-a658c0e2d84f>\u001b[0m in \u001b[0;36m<module>\u001b[1;34m\u001b[0m\n\u001b[0;32m      4\u001b[0m \u001b[1;31m# checking if all the tagged videos match with stored tagged data\u001b[0m\u001b[1;33m\u001b[0m\u001b[1;33m\u001b[0m\u001b[1;33m\u001b[0m\u001b[0m\n\u001b[0;32m      5\u001b[0m \u001b[1;33m\u001b[0m\u001b[0m\n\u001b[1;32m----> 6\u001b[1;33m \u001b[0mdf_tagged\u001b[0m \u001b[1;33m=\u001b[0m \u001b[0mpd\u001b[0m\u001b[1;33m.\u001b[0m\u001b[0mread_csv\u001b[0m\u001b[1;33m(\u001b[0m\u001b[1;34m\"snowtagged.csv\"\u001b[0m\u001b[1;33m)\u001b[0m\u001b[1;33m\u001b[0m\u001b[1;33m\u001b[0m\u001b[0m\n\u001b[0m\u001b[0;32m      7\u001b[0m \u001b[0mtagged_url_list\u001b[0m \u001b[1;33m=\u001b[0m \u001b[1;33m[\u001b[0m\u001b[0mi\u001b[0m\u001b[1;33m.\u001b[0m\u001b[0mreplace\u001b[0m\u001b[1;33m(\u001b[0m\u001b[1;34m\"https://www.youtube.com/watch?v=:\"\u001b[0m\u001b[1;33m,\u001b[0m\u001b[1;34m\"https://www.youtube.com/embed/\"\u001b[0m\u001b[1;33m)\u001b[0m \u001b[1;32mfor\u001b[0m \u001b[0mi\u001b[0m \u001b[1;32min\u001b[0m \u001b[0mdf_tagged\u001b[0m\u001b[1;33m.\u001b[0m\u001b[0mvideo_url\u001b[0m\u001b[1;33m]\u001b[0m\u001b[1;33m\u001b[0m\u001b[1;33m\u001b[0m\u001b[0m\n\u001b[0;32m      8\u001b[0m \u001b[1;32massert\u001b[0m\u001b[1;33m(\u001b[0m\u001b[0mdf_tagged\u001b[0m\u001b[1;33m[\u001b[0m\u001b[1;34m'video_url'\u001b[0m\u001b[1;33m]\u001b[0m\u001b[1;33m.\u001b[0m\u001b[0mis_unique\u001b[0m\u001b[1;33m)\u001b[0m\u001b[1;33m\u001b[0m\u001b[1;33m\u001b[0m\u001b[0m\n",
      "\u001b[1;32m~\\anaconda3\\lib\\site-packages\\pandas\\io\\parsers.py\u001b[0m in \u001b[0;36mparser_f\u001b[1;34m(filepath_or_buffer, sep, delimiter, header, names, index_col, usecols, squeeze, prefix, mangle_dupe_cols, dtype, engine, converters, true_values, false_values, skipinitialspace, skiprows, skipfooter, nrows, na_values, keep_default_na, na_filter, verbose, skip_blank_lines, parse_dates, infer_datetime_format, keep_date_col, date_parser, dayfirst, cache_dates, iterator, chunksize, compression, thousands, decimal, lineterminator, quotechar, quoting, doublequote, escapechar, comment, encoding, dialect, error_bad_lines, warn_bad_lines, delim_whitespace, low_memory, memory_map, float_precision)\u001b[0m\n\u001b[0;32m    674\u001b[0m         )\n\u001b[0;32m    675\u001b[0m \u001b[1;33m\u001b[0m\u001b[0m\n\u001b[1;32m--> 676\u001b[1;33m         \u001b[1;32mreturn\u001b[0m \u001b[0m_read\u001b[0m\u001b[1;33m(\u001b[0m\u001b[0mfilepath_or_buffer\u001b[0m\u001b[1;33m,\u001b[0m \u001b[0mkwds\u001b[0m\u001b[1;33m)\u001b[0m\u001b[1;33m\u001b[0m\u001b[1;33m\u001b[0m\u001b[0m\n\u001b[0m\u001b[0;32m    677\u001b[0m \u001b[1;33m\u001b[0m\u001b[0m\n\u001b[0;32m    678\u001b[0m     \u001b[0mparser_f\u001b[0m\u001b[1;33m.\u001b[0m\u001b[0m__name__\u001b[0m \u001b[1;33m=\u001b[0m \u001b[0mname\u001b[0m\u001b[1;33m\u001b[0m\u001b[1;33m\u001b[0m\u001b[0m\n",
      "\u001b[1;32m~\\anaconda3\\lib\\site-packages\\pandas\\io\\parsers.py\u001b[0m in \u001b[0;36m_read\u001b[1;34m(filepath_or_buffer, kwds)\u001b[0m\n\u001b[0;32m    446\u001b[0m \u001b[1;33m\u001b[0m\u001b[0m\n\u001b[0;32m    447\u001b[0m     \u001b[1;31m# Create the parser.\u001b[0m\u001b[1;33m\u001b[0m\u001b[1;33m\u001b[0m\u001b[1;33m\u001b[0m\u001b[0m\n\u001b[1;32m--> 448\u001b[1;33m     \u001b[0mparser\u001b[0m \u001b[1;33m=\u001b[0m \u001b[0mTextFileReader\u001b[0m\u001b[1;33m(\u001b[0m\u001b[0mfp_or_buf\u001b[0m\u001b[1;33m,\u001b[0m \u001b[1;33m**\u001b[0m\u001b[0mkwds\u001b[0m\u001b[1;33m)\u001b[0m\u001b[1;33m\u001b[0m\u001b[1;33m\u001b[0m\u001b[0m\n\u001b[0m\u001b[0;32m    449\u001b[0m \u001b[1;33m\u001b[0m\u001b[0m\n\u001b[0;32m    450\u001b[0m     \u001b[1;32mif\u001b[0m \u001b[0mchunksize\u001b[0m \u001b[1;32mor\u001b[0m \u001b[0miterator\u001b[0m\u001b[1;33m:\u001b[0m\u001b[1;33m\u001b[0m\u001b[1;33m\u001b[0m\u001b[0m\n",
      "\u001b[1;32m~\\anaconda3\\lib\\site-packages\\pandas\\io\\parsers.py\u001b[0m in \u001b[0;36m__init__\u001b[1;34m(self, f, engine, **kwds)\u001b[0m\n\u001b[0;32m    878\u001b[0m             \u001b[0mself\u001b[0m\u001b[1;33m.\u001b[0m\u001b[0moptions\u001b[0m\u001b[1;33m[\u001b[0m\u001b[1;34m\"has_index_names\"\u001b[0m\u001b[1;33m]\u001b[0m \u001b[1;33m=\u001b[0m \u001b[0mkwds\u001b[0m\u001b[1;33m[\u001b[0m\u001b[1;34m\"has_index_names\"\u001b[0m\u001b[1;33m]\u001b[0m\u001b[1;33m\u001b[0m\u001b[1;33m\u001b[0m\u001b[0m\n\u001b[0;32m    879\u001b[0m \u001b[1;33m\u001b[0m\u001b[0m\n\u001b[1;32m--> 880\u001b[1;33m         \u001b[0mself\u001b[0m\u001b[1;33m.\u001b[0m\u001b[0m_make_engine\u001b[0m\u001b[1;33m(\u001b[0m\u001b[0mself\u001b[0m\u001b[1;33m.\u001b[0m\u001b[0mengine\u001b[0m\u001b[1;33m)\u001b[0m\u001b[1;33m\u001b[0m\u001b[1;33m\u001b[0m\u001b[0m\n\u001b[0m\u001b[0;32m    881\u001b[0m \u001b[1;33m\u001b[0m\u001b[0m\n\u001b[0;32m    882\u001b[0m     \u001b[1;32mdef\u001b[0m \u001b[0mclose\u001b[0m\u001b[1;33m(\u001b[0m\u001b[0mself\u001b[0m\u001b[1;33m)\u001b[0m\u001b[1;33m:\u001b[0m\u001b[1;33m\u001b[0m\u001b[1;33m\u001b[0m\u001b[0m\n",
      "\u001b[1;32m~\\anaconda3\\lib\\site-packages\\pandas\\io\\parsers.py\u001b[0m in \u001b[0;36m_make_engine\u001b[1;34m(self, engine)\u001b[0m\n\u001b[0;32m   1112\u001b[0m     \u001b[1;32mdef\u001b[0m \u001b[0m_make_engine\u001b[0m\u001b[1;33m(\u001b[0m\u001b[0mself\u001b[0m\u001b[1;33m,\u001b[0m \u001b[0mengine\u001b[0m\u001b[1;33m=\u001b[0m\u001b[1;34m\"c\"\u001b[0m\u001b[1;33m)\u001b[0m\u001b[1;33m:\u001b[0m\u001b[1;33m\u001b[0m\u001b[1;33m\u001b[0m\u001b[0m\n\u001b[0;32m   1113\u001b[0m         \u001b[1;32mif\u001b[0m \u001b[0mengine\u001b[0m \u001b[1;33m==\u001b[0m \u001b[1;34m\"c\"\u001b[0m\u001b[1;33m:\u001b[0m\u001b[1;33m\u001b[0m\u001b[1;33m\u001b[0m\u001b[0m\n\u001b[1;32m-> 1114\u001b[1;33m             \u001b[0mself\u001b[0m\u001b[1;33m.\u001b[0m\u001b[0m_engine\u001b[0m \u001b[1;33m=\u001b[0m \u001b[0mCParserWrapper\u001b[0m\u001b[1;33m(\u001b[0m\u001b[0mself\u001b[0m\u001b[1;33m.\u001b[0m\u001b[0mf\u001b[0m\u001b[1;33m,\u001b[0m \u001b[1;33m**\u001b[0m\u001b[0mself\u001b[0m\u001b[1;33m.\u001b[0m\u001b[0moptions\u001b[0m\u001b[1;33m)\u001b[0m\u001b[1;33m\u001b[0m\u001b[1;33m\u001b[0m\u001b[0m\n\u001b[0m\u001b[0;32m   1115\u001b[0m         \u001b[1;32melse\u001b[0m\u001b[1;33m:\u001b[0m\u001b[1;33m\u001b[0m\u001b[1;33m\u001b[0m\u001b[0m\n\u001b[0;32m   1116\u001b[0m             \u001b[1;32mif\u001b[0m \u001b[0mengine\u001b[0m \u001b[1;33m==\u001b[0m \u001b[1;34m\"python\"\u001b[0m\u001b[1;33m:\u001b[0m\u001b[1;33m\u001b[0m\u001b[1;33m\u001b[0m\u001b[0m\n",
      "\u001b[1;32m~\\anaconda3\\lib\\site-packages\\pandas\\io\\parsers.py\u001b[0m in \u001b[0;36m__init__\u001b[1;34m(self, src, **kwds)\u001b[0m\n\u001b[0;32m   1889\u001b[0m         \u001b[0mkwds\u001b[0m\u001b[1;33m[\u001b[0m\u001b[1;34m\"usecols\"\u001b[0m\u001b[1;33m]\u001b[0m \u001b[1;33m=\u001b[0m \u001b[0mself\u001b[0m\u001b[1;33m.\u001b[0m\u001b[0musecols\u001b[0m\u001b[1;33m\u001b[0m\u001b[1;33m\u001b[0m\u001b[0m\n\u001b[0;32m   1890\u001b[0m \u001b[1;33m\u001b[0m\u001b[0m\n\u001b[1;32m-> 1891\u001b[1;33m         \u001b[0mself\u001b[0m\u001b[1;33m.\u001b[0m\u001b[0m_reader\u001b[0m \u001b[1;33m=\u001b[0m \u001b[0mparsers\u001b[0m\u001b[1;33m.\u001b[0m\u001b[0mTextReader\u001b[0m\u001b[1;33m(\u001b[0m\u001b[0msrc\u001b[0m\u001b[1;33m,\u001b[0m \u001b[1;33m**\u001b[0m\u001b[0mkwds\u001b[0m\u001b[1;33m)\u001b[0m\u001b[1;33m\u001b[0m\u001b[1;33m\u001b[0m\u001b[0m\n\u001b[0m\u001b[0;32m   1892\u001b[0m         \u001b[0mself\u001b[0m\u001b[1;33m.\u001b[0m\u001b[0munnamed_cols\u001b[0m \u001b[1;33m=\u001b[0m \u001b[0mself\u001b[0m\u001b[1;33m.\u001b[0m\u001b[0m_reader\u001b[0m\u001b[1;33m.\u001b[0m\u001b[0munnamed_cols\u001b[0m\u001b[1;33m\u001b[0m\u001b[1;33m\u001b[0m\u001b[0m\n\u001b[0;32m   1893\u001b[0m \u001b[1;33m\u001b[0m\u001b[0m\n",
      "\u001b[1;32mpandas\\_libs\\parsers.pyx\u001b[0m in \u001b[0;36mpandas._libs.parsers.TextReader.__cinit__\u001b[1;34m()\u001b[0m\n",
      "\u001b[1;32mpandas\\_libs\\parsers.pyx\u001b[0m in \u001b[0;36mpandas._libs.parsers.TextReader._setup_parser_source\u001b[1;34m()\u001b[0m\n",
      "\u001b[1;31mFileNotFoundError\u001b[0m: [Errno 2] File snowtagged.csv does not exist: 'snowtagged.csv'"
     ]
    }
   ],
   "source": [
    "import pandas as pd\n",
    "from collections import Counter\n",
    "\n",
    "# checking if all the tagged videos match with stored tagged data\n",
    "\n",
    "df_tagged = pd.read_csv(\"snowtagged.csv\")\n",
    "tagged_url_list = [i.replace(\"https://www.youtube.com/watch?v=:\",\"https://www.youtube.com/embed/\") for i in df_tagged.video_url]\n",
    "assert(df_tagged['video_url'].is_unique)\n",
    "\n",
    "df_cat = pd.read_csv(\"SnowTagging_Cat_ROUND2_tagged.csv\")\n",
    "df_kathy = pd.read_csv(\"SnowTagging_Kathy_ROUND2_tagged.csv\")\n",
    "df_niu = pd.read_csv(\"SnowTagging_Niu_ROUND2_tagged.csv\")\n",
    "\n",
    "cat_url = [i for i in df_cat[\"video_url\"]]\n",
    "niu_url = [i for i in df_niu[\"video_url\"]]\n",
    "kathy_url = [i for i in df_kathy[\"video_url\"]]\n",
    "\n",
    "total = cat_url + kathy_url + niu_url\n",
    "assert(pd.Series(total).is_unique)\n",
    "Counter(tagged_url_list) == Counter(total)\n",
    "\n",
    "df_round3 = pd.read_csv(\"SnowTagging_Cat_ROUND3.csv\")\n",
    "url_round3 = [i for i in df_round3[\"embedUrl\"]]\n",
    "total = tagged_url_list = [i.replace(\"https://www.youtube.com/watch?v=\",\"https://www.youtube.com/embed/\") for i in total]\n",
    "duplicate = [i for i in url_round3 if i in total]\n",
    "duplicate\n",
    "\n"
   ]
  }
 ],
 "metadata": {
  "kernelspec": {
   "display_name": "Python 3",
   "language": "python",
   "name": "python3"
  },
  "language_info": {
   "codemirror_mode": {
    "name": "ipython",
    "version": 3
   },
   "file_extension": ".py",
   "mimetype": "text/x-python",
   "name": "python",
   "nbconvert_exporter": "python",
   "pygments_lexer": "ipython3",
   "version": "3.7.6"
  }
 },
 "nbformat": 4,
 "nbformat_minor": 4
}
