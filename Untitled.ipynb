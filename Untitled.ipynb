{
 "cells": [
  {
   "cell_type": "code",
   "execution_count": 26,
   "metadata": {},
   "outputs": [],
   "source": [
    "import csv\n",
    "import pandas as pd\n",
    "import random\n",
    "\n",
    "n = 20\n",
    "df = pd.read_csv(\"FINAL_DATA.csv\")\n",
    "cols = [\"video_url\",\n",
    "        \"diagnostic (problem)\",\n",
    "        \"prognostic (plan of attack)\",\n",
    "        \"motivation (call to arms)\"]\n",
    "\n",
    "videoid = list(df.video_id)\n",
    "random.shuffle(videoid)\n",
    "df_cat = pd.DataFrame([[\"https://www.youtube.com/watch?v=\"+i for i in videoid[:n]],[],[],[]]).transpose()\n",
    "df_niu = pd.DataFrame([[\"https://www.youtube.com/watch?v=\"+i for i in videoid[n:n*2]],[],[],[]]).transpose()\n",
    "df_cat.columns = cols\n",
    "df_niu.columns = cols\n",
    "df_cat.to_csv(\"SnowTagging_Cat.csv\", index=False)\n",
    "df_niu.to_csv(\"SnowTagging_Niu.csv\", index=False)\n"
   ]
  }
 ],
 "metadata": {
  "kernelspec": {
   "display_name": "Python 3",
   "language": "python",
   "name": "python3"
  },
  "language_info": {
   "codemirror_mode": {
    "name": "ipython",
    "version": 3
   },
   "file_extension": ".py",
   "mimetype": "text/x-python",
   "name": "python",
   "nbconvert_exporter": "python",
   "pygments_lexer": "ipython3",
   "version": "3.7.6"
  }
 },
 "nbformat": 4,
 "nbformat_minor": 4
}
