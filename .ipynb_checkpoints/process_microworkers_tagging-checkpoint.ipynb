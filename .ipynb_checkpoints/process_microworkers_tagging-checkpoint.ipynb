{
 "cells": [
  {
   "cell_type": "code",
   "execution_count": 9,
   "metadata": {
    "scrolled": false
   },
   "outputs": [
    {
     "name": "stdout",
     "output_type": "stream",
     "text": [
      "total accepted: 471\n"
     ]
    }
   ],
   "source": [
    "#@author Mai\n",
    "#@version: 2/18/20\n",
    "#changed ordering of tagging header\n",
    "\n",
    "\n",
    "import csv\n",
    "import os\n",
    "import statistics\n",
    "import math\n",
    "from collections import defaultdict\n",
    "from collections import Counter\n",
    "\n",
    "#change\n",
    "result_path = \"./KEY/\"\n",
    "directory=\"./data_tagging_j8\" #use your own directory path (I saved all the csv in a separate folder called data)\n",
    "\n",
    "data = []\n",
    "for filename in os.listdir(directory):\n",
    "    if filename.endswith(\".csv\"):\n",
    "        with open(directory+\"/\"+filename, mode = \"r+\", encoding=\"utf-8\") as csv_file:\n",
    "            csv_reader = csv.DictReader(csv_file)\n",
    "            for row in csv_reader:\n",
    "                data.append(row)\n",
    "    else:\n",
    "        pass\n",
    "\n",
    "wrong_data=[]\n",
    "with open(result_path + \"broken_data.csv\", encoding=\"utf-8\") as csv_file:\n",
    "    csv_reader = csv.DictReader(csv_file)\n",
    "    for row in csv_reader:\n",
    "        wrong_data.append(row)\n",
    "\n",
    "wrong_data=[d[\"video_url\"] for d in wrong_data]\n",
    "#print(wrong_data)\n",
    "ok = [d for d in data\n",
    "      if d[\"STATUS\"] == \"OK\" and d[\"VIDEO_URL\"] not in wrong_data]\n",
    "\n",
    "url_dict = defaultdict(list)\n",
    "for d in ok:\n",
    "    url_dict[d[\"VIDEO_URL\"]].append(d)\n",
    "    \n",
    "print(f\"total accepted: {len(url_dict)}\")"
   ]
  },
  {
   "cell_type": "code",
   "execution_count": 10,
   "metadata": {
    "scrolled": true
   },
   "outputs": [
    {
     "name": "stdout",
     "output_type": "stream",
     "text": [
      "total processed: 471\n",
      "total accepted: 418\n",
      "total rejected: 53\n",
      "total wrong: 47\n"
     ]
    }
   ],
   "source": [
    "def convert_rating(mylist, tag):\n",
    "    rating = [d[tag] for d in mylist]\n",
    "    total = []\n",
    "    for i in range(len(rating)):\n",
    "        if rating[i] == \"very_high\": total.append(5)\n",
    "        elif rating[i] == \"high\":    total.append(4)\n",
    "        elif rating[i] == \"neutral\": total.append(3)\n",
    "        elif rating[i] == \"low\":     total.append(2)\n",
    "        elif rating[i] == \"very_low\": total.append(1)    \n",
    "    avg = statistics.mean(total)\n",
    "    return avg\n",
    "\n",
    "creation = [\"theme_creation_object\", \"theme_creation_performance\", \"knowledge\"]\n",
    "participation = [\"planting_trees\", \"donating\"]\n",
    "connection_comment = [\"spread_word\", \"comment_news\", \"live_stream_stat\", \"comment_video\"]\n",
    "connection_game=[\"live_stream_game\"]\n",
    "\n",
    "def merge_cat(cat):\n",
    "    \n",
    "    category = \"Other\" #not_recognized\n",
    "    \n",
    "    if (cat in creation):\n",
    "        category = \"Creation\"\n",
    "    elif (cat in participation):\n",
    "        category = \"Participation\"\n",
    "    elif (cat in connection_comment):\n",
    "        category = \"Connection_comment\"\n",
    "    elif (cat in connection_game):\n",
    "        category = \"Connection_game\"\n",
    "    return category\n",
    "\n",
    "def isMentioned(mylist, tag):\n",
    "    count_cat = sum([float(d[tag]) for d in mylist])\n",
    "    if (count_cat >= MAJORITY):\n",
    "        return 1\n",
    "    else: return 0\n",
    "\n",
    "url_temp = {}\n",
    "rejected_url = []\n",
    "URL_COUNT = 3 #number of acceptable tasks per link\n",
    "MAJORITY = math.ceil(URL_COUNT/2)\n",
    "celeb_name = [\"mrbeast\", \"arborday\", \"teamtrees_org\",\"noteble_youtuber\",\"noteble_entrepreneur\"]\n",
    "\n",
    "for url, l in url_dict.items():\n",
    "    category = [c[\"category\"] for c in l]\n",
    "    is_unique = len(set(category)) == len(category) #converts list to set to check if they're unique\n",
    "    if (is_unique):\n",
    "        rejected_url.append(l[0][\"VIDEO_URL\"])\n",
    "        continue\n",
    "    cat = (Counter(category).most_common(1)[0])[0]\n",
    "    \n",
    "    url_temp[url] = {\n",
    "        \"VIDEO_URL\": l[0][\"VIDEO_URL\"],\n",
    "        \"tagging\": cat,\n",
    "        \"merged_tagging\" : merge_cat(cat),\n",
    "        \"quality\": convert_rating(l, \"quality\"),\n",
    "        \"creativity\": convert_rating(l, \"creativity\"),\n",
    "        \"awareness\": convert_rating(l, \"awareness\")\n",
    "    }\n",
    "    mention_count = 0\n",
    "    for name in celeb_name:\n",
    "        is_mentioned = isMentioned(l,name)\n",
    "        url_temp[url][name] = \"y\" if is_mentioned == 1 else \"n\" \n",
    "        mention_count+= is_mentioned\n",
    "    url_temp[url][\"mention_count\"] = mention_count    \n",
    "\n",
    "print(f\"total processed: {len(url_dict)}\")\n",
    "print(f\"total accepted: {len(url_temp)}\")\n",
    "print(f\"total rejected: {len(rejected_url)}\")\n",
    "print(f\"total wrong: {len(wrong_data)}\")\n"
   ]
  },
  {
   "cell_type": "code",
   "execution_count": 7,
   "metadata": {},
   "outputs": [
    {
     "name": "stdout",
     "output_type": "stream",
     "text": [
      "It works I guess\n"
     ]
    }
   ],
   "source": [
    "# accepted and aggregated\n",
    "try:\n",
    "   os.mkdir(result_path)\n",
    "except OSError as e:\n",
    "   print(\"It works I guess\")\n",
    "\n",
    "with open(result_path + \"accepted_taggings.csv\", mode='w', encoding=\"utf-8\") as csv_result:\n",
    "    csv_writer = csv.writer(csv_result,\n",
    "                            delimiter = \",\",\n",
    "                            quotechar = '\"',\n",
    "                            quoting = csv.QUOTE_MINIMAL,\n",
    "                           lineterminator = \"\\n\")\n",
    "    #csv_writer.writerow([\"VIDEO_URL\", \"category\", \"mrbeast\", \"arborday\", \"teamtrees_org\", \"noteble_youtuber\",\n",
    "                        #\"noteble_entrepreneur\", \"quality\", \"creativity\", \"awareness\"])\n",
    "    isFirst=True\n",
    "    for v in url_temp.values():\n",
    "        if isFirst:\n",
    "            csv_writer.writerow(v.keys())\n",
    "            isFirst=False\n",
    "        csv_writer.writerow(v.values())\n",
    "        \n",
    "        \n",
    "\n",
    "#rejected unique links\n",
    "with open(result_path + \"recjected_url.csv\", mode='w', encoding=\"utf-8\") as csv_result:\n",
    "    csv_writer = csv.writer(csv_result,\n",
    "                            delimiter = \",\",\n",
    "                            quotechar = '\"',\n",
    "                            quoting = csv.QUOTE_MINIMAL,\n",
    "                            lineterminator = \"\\n\")\n",
    "    for i in rejected_url:\n",
    "        csv_writer.writerow([i])\n",
    "        \n",
    "        \n",
    "\n",
    "#rejected raw data\n",
    "rejected_raw = [d for d in ok if d[\"VIDEO_URL\"] in rejected_url]\n",
    "rejected_raw = sorted(rejected_raw, key = lambda x:x[\"VIDEO_URL\"])\n",
    "\n",
    "with open(result_path + \"recjected_data.csv\", mode='w', encoding=\"utf-8\") as csv_result:\n",
    "    csv_writer = csv.writer(csv_result,\n",
    "                            delimiter = \",\",\n",
    "                            quotechar = '\"',\n",
    "                            quoting = csv.QUOTE_MINIMAL,\n",
    "                            lineterminator = \"\\n\")\n",
    "    \n",
    "    #csv_writer.writerow(rejected_raw[0]) \n",
    "    isFirst = True\n",
    "    for d in rejected_raw:\n",
    "        if isFirst:\n",
    "            csv_writer.writerow(d.keys())\n",
    "            isFirst = False\n",
    "        csv_writer.writerow(d.values())"
   ]
  },
  {
   "cell_type": "code",
   "execution_count": null,
   "metadata": {},
   "outputs": [],
   "source": []
  },
  {
   "cell_type": "code",
   "execution_count": null,
   "metadata": {},
   "outputs": [],
   "source": []
  }
 ],
 "metadata": {
  "kernelspec": {
   "display_name": "Python 3",
   "language": "python",
   "name": "python3"
  },
  "language_info": {
   "codemirror_mode": {
    "name": "ipython",
    "version": 3
   },
   "file_extension": ".py",
   "mimetype": "text/x-python",
   "name": "python",
   "nbconvert_exporter": "python",
   "pygments_lexer": "ipython3",
   "version": "3.7.4"
  }
 },
 "nbformat": 4,
 "nbformat_minor": 2
}
