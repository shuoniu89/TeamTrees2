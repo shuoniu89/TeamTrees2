{
 "cells": [
  {
   "cell_type": "code",
   "execution_count": 3,
   "metadata": {},
   "outputs": [
    {
     "name": "stdout",
     "output_type": "stream",
     "text": [
      "total videos: 518\n",
      "total wrong data: 47\n",
      "total accepted: 364\n",
      "total final data in meta: 471\n"
     ]
    }
   ],
   "source": [
    "#@author: Mai\n",
    "#@version: 2/10/20\n",
    "import csv \n",
    "import os\n",
    "import json\n",
    "from collections import defaultdict\n",
    "\n",
    "data = []\n",
    "wrong_data=[]\n",
    "with open(\"KEY/video_meta_data.csv\",\"r+\", encoding=\"utf-8\") as csv_file:\n",
    "    csv_reader = csv.DictReader(csv_file)\n",
    "    for row in csv_reader:\n",
    "        data.append(row)\n",
    "        \n",
    "print(f\"total videos: {len(data)}\")\n",
    "\n",
    "with open(\"KEY/broken_data.csv\", encoding=\"utf-8\") as fp:\n",
    "    csv_reader = csv.DictReader(fp)\n",
    "    for row in csv_reader:\n",
    "        wrong_data.append(row)\n",
    "\n",
    "wrong_data=[d[\"video_url\"] for d in wrong_data]\n",
    "data = [d for d in data if d[\"emb_url\"] not in wrong_data]\n",
    "print(f\"total wrong data: {len(wrong_data)}\")\n",
    "\n",
    "url_dict = defaultdict(list)\n",
    "for d in data:\n",
    "    url_dict[d[\"emb_url\"]].append(d)\n",
    "\n",
    "# print(url_dict)\n",
    "\n",
    "accepted_data = []\n",
    "result_path = \"./KEY/\"\n",
    "with open(result_path + \"accepted_taggings.csv\",\"r+\", encoding=\"utf-8\") as csv_file:\n",
    "    csv_reader = csv.DictReader(csv_file)\n",
    "    for row in csv_reader:\n",
    "        accepted_data.append(row)\n",
    "#print(accepted_data[0].items())\n",
    "#print(accepted_data)\n",
    "#print(list(accepted_data[0].items())[0:3])\n",
    "\n",
    "accepted_url = [d[\"VIDEO_URL\"] for d in accepted_data]\n",
    "print(f\"total accepted: {len(accepted_url)}\")\n",
    "\n",
    "#Rationale: d is a dictionary of the url we want from the accepted_data\n",
    "#list_temp is a list of tupels from 3-10 (index of all the tags we want)\n",
    "#then we loop from 3-10 to add to url_dict. url_dict[url] is a list of one dictionary hence url_dict[url][0]\n",
    "#list_temp[i][0] is the name tag, list_temp[i][1] is the value\n",
    "for url, l in url_dict.items():\n",
    "    for d in accepted_data:\n",
    "        if (d[\"VIDEO_URL\"] == url):\n",
    "            list_temp = list(d.items())[3:11]\n",
    "    for i in range(len(list_temp)):\n",
    "            tag = list_temp[i][0]\n",
    "            value = list_temp[i][1]\n",
    "            if (url in accepted_url):\n",
    "                url_dict[url][0][tag] = value\n",
    "            elif (url not in accepted_url):\n",
    "                url_dict[url][0][tag] = \"\"\n",
    "# print(json.dumps(url_dict, indent = 2))\n",
    "#print(json.dumps(data, indent = 2))\n",
    "print(f\"total final data in meta: {len(data)}\")"
   ]
  },
  {
   "cell_type": "code",
   "execution_count": 4,
   "metadata": {},
   "outputs": [],
   "source": [
    "#@author: Mai\n",
    "#@version: 2/10/20\n",
    "with open(\"KEY/meta_all_processed.csv\", mode='w', encoding=\"utf-8\") as csv_result:\n",
    "    csv_writer = csv.writer(csv_result,\n",
    "                            delimiter = \",\",\n",
    "                            quotechar = '\"',\n",
    "                            quoting = csv.QUOTE_MINIMAL,\n",
    "                            lineterminator = \"\\n\")\n",
    "#     tags = [\"mrbeast\",\"arborday\",\"teamtrees_org\",\"noteble_youtuber\",\n",
    "#             \"noteble_entrepreneur\",\"quality\",\"creativity\",\"awareness\"]\n",
    "\n",
    "    isFirst = True\n",
    "    for i in url_dict.keys():\n",
    "        if isFirst:\n",
    "            header = list(url_dict[i][0])\n",
    "            csv_writer.writerow(header)\n",
    "            isFirst = False\n",
    "        csv_writer.writerow(url_dict[i][0].values())"
   ]
  }
 ],
 "metadata": {
  "kernelspec": {
   "display_name": "Python 3",
   "language": "python",
   "name": "python3"
  },
  "language_info": {
   "codemirror_mode": {
    "name": "ipython",
    "version": 3
   },
   "file_extension": ".py",
   "mimetype": "text/x-python",
   "name": "python",
   "nbconvert_exporter": "python",
   "pygments_lexer": "ipython3",
   "version": "3.7.4"
  }
 },
 "nbformat": 4,
 "nbformat_minor": 2
}
