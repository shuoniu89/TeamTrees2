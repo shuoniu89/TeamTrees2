{
 "cells": [
  {
   "cell_type": "code",
   "execution_count": 4,
   "metadata": {},
   "outputs": [
    {
     "name": "stdout",
     "output_type": "stream",
     "text": [
      "total accepted: 470\n",
      "[('https://www.youtube.com/embed/s7ijm8YOdSU?autoplay=0', 'comment_news'), ('https://www.youtube.com/embed/0hVZOJCYBBM?autoplay=0', 'comment_news'), ('https://www.youtube.com/embed/lHsymdFIu0U?autoplay=0', 'live_stream_stat'), ('https://www.youtube.com/embed/m_IcLoPpwQs?autoplay=0', 'spread_word'), ('https://www.youtube.com/embed/l9q22egaqGY?autoplay=0', 'theme_creation_performance'), ('https://www.youtube.com/embed/Zf1bUJZNWY0?autoplay=0', 'comment_video'), ('https://www.youtube.com/embed/gfwX5niNBdY?autoplay=0', 'theme_creation_object'), ('https://www.youtube.com/embed/D5U2zMXfabc?autoplay=0', 'theme_creation_performance'), ('https://www.youtube.com/embed/PeyYmhPcOiY?autoplay=0', 'comment_news'), ('https://www.youtube.com/embed/1p-0iUf-A9Q?autoplay=0', 'spread_word'), ('https://www.youtube.com/embed/2HkecNkioOA?autoplay=0', 'spread_word'), ('https://www.youtube.com/embed/LTg_J93Queo?autoplay=0', 'spread_word'), ('https://www.youtube.com/embed/fCCK9nHUuCE?autoplay=0', 'spread_word'), ('https://www.youtube.com/embed/3KMP6YRY60U?autoplay=0', 'not_recognized'), ('https://www.youtube.com/embed/8nrj_06W06c?autoplay=0', 'spread_word'), ('https://www.youtube.com/embed/Q46iP7Ox7Vs?autoplay=0', 'comment_video'), ('https://www.youtube.com/embed/gfqDmQGvSVk?autoplay=0', 'spread_word'), ('https://www.youtube.com/embed/W_qq8nUqwYg?autoplay=0', 'spread_word'), ('https://www.youtube.com/embed/W5u2HCxsxjM?autoplay=0', 'spread_word'), ('https://www.youtube.com/embed/AYo5-OkjSk0?autoplay=0', 'theme_creation_object'), ('https://www.youtube.com/embed/VqgpU84RC2I?autoplay=0', 'donating'), ('https://www.youtube.com/embed/F5-Mv4ZO3fk?autoplay=0', 'spread_word'), ('https://www.youtube.com/embed/SNdtMjkRVrU?autoplay=0', 'theme_creation_object'), ('https://www.youtube.com/embed/WLMOmHHnddw?autoplay=0', 'spread_word'), ('https://www.youtube.com/embed/tNJCYwual9Q?autoplay=0', 'live_stream_game'), ('https://www.youtube.com/embed/0ksapLvMrgE?autoplay=0', 'comment_news'), ('https://www.youtube.com/embed/9iHYHTFZ9To?autoplay=0', 'live_stream_game'), ('https://www.youtube.com/embed/_jwXnEYzDkw?autoplay=0', 'comment_video'), ('https://www.youtube.com/embed/LgttB-zIa4Y?autoplay=0', 'spread_word'), ('https://www.youtube.com/embed/yfdl6Ijzpr8?autoplay=0', 'knowledge'), ('https://www.youtube.com/embed/WfezB3DEAmI?autoplay=0', 'knowledge'), ('https://www.youtube.com/embed/ZOD_zGZrgNY?autoplay=0', 'not_recognized'), ('https://www.youtube.com/embed/GgBSwCLJC-U?autoplay=0', 'theme_creation_performance'), ('https://www.youtube.com/embed/Bmc840V7aQg?autoplay=0', 'live_stream_game'), ('https://www.youtube.com/embed/GPEt2b5L_qI?autoplay=0', 'live_stream_stat'), ('https://www.youtube.com/embed/vdA5bRDT8Ls?autoplay=0', 'comment_news'), ('https://www.youtube.com/embed/BnQXER2G8ok?autoplay=0', 'planting_trees'), ('https://www.youtube.com/embed/yokGFB-d6Vg?autoplay=0', 'spread_word'), ('https://www.youtube.com/embed/LlW7Es7gStA?autoplay=0', 'comment_news'), ('https://www.youtube.com/embed/jdW33V9Fokw?autoplay=0', 'comment_news'), ('https://www.youtube.com/embed/0Eg84esa2IU?autoplay=0', 'spread_word'), ('https://www.youtube.com/embed/95Gh_RCfWrM?autoplay=0', 'spread_word'), ('https://www.youtube.com/embed/g5bEYs9QzC8?autoplay=0', 'theme_creation_performance'), ('https://www.youtube.com/embed/tHvnKa_mCic?autoplay=0', 'live_stream_game'), ('https://www.youtube.com/embed/OrKZ5hAPPZM?autoplay=0', 'spread_word'), ('https://www.youtube.com/embed/iW4lHAYAO28?autoplay=0', 'spread_word'), ('https://www.youtube.com/embed/yVT41UoJBXM?autoplay=0', 'comment_news'), ('https://www.youtube.com/embed/Tajqfm1h26Q?autoplay=0', 'live_stream_game'), ('https://www.youtube.com/embed/FLKFTh99IWE?autoplay=0', 'comment_video'), ('https://www.youtube.com/embed/O9N7UcdFVa8?autoplay=0', 'theme_creation_performance'), ('https://www.youtube.com/embed/3fGlvusJsrI?autoplay=0', 'theme_creation_object'), ('https://www.youtube.com/embed/YAxs1qLXWBE?autoplay=0', 'spread_word')]\n"
     ]
    }
   ],
   "source": [
    "#@author Mai\n",
    "#@version: 2/27/20\n",
    "\n",
    "import csv\n",
    "import os\n",
    "import statistics\n",
    "import math\n",
    "from collections import defaultdict\n",
    "from collections import Counter\n",
    "\n",
    "result_path = \"./KEY/\"\n",
    "directory=\"./data_tagging_j8\"\n",
    "\n",
    "data = []\n",
    "for filename in os.listdir(directory):\n",
    "    if filename.endswith(\".csv\"):\n",
    "        with open(directory+\"/\"+filename, mode = \"r+\", encoding=\"utf-8\") as csv_file:\n",
    "            csv_reader = csv.DictReader(csv_file)\n",
    "            for row in csv_reader:\n",
    "                data.append(row)\n",
    "    else:\n",
    "        pass\n",
    "\n",
    "wrong_data=[]\n",
    "with open(result_path + \"broken_data.csv\", encoding=\"utf-8\") as csv_file:\n",
    "    csv_reader = csv.DictReader(csv_file)\n",
    "    for row in csv_reader:\n",
    "        wrong_data.append(row)\n",
    "\n",
    "wrong_data=[d[\"video_url\"] for d in wrong_data]\n",
    "ok = [d for d in data\n",
    "      if d[\"STATUS\"] == \"OK\" and d[\"VIDEO_URL\"] not in wrong_data]\n",
    "\n",
    "url_dict = defaultdict(list)\n",
    "for d in ok:\n",
    "    url_dict[d[\"VIDEO_URL\"]].append(d)\n",
    "    \n",
    "manual_tag =[]\n",
    "with open(result_path + \"final_tag.csv\", encoding=\"utf-8\") as csv_file:\n",
    "    csv_reader = csv.DictReader(csv_file)\n",
    "    for row in csv_reader:\n",
    "        manual_tag.append(row)\n",
    "manual_tag = [(d[\"VIDEO_URL\"], d[\"final_tagging\"]) for d in manual_tag]   \n",
    "print(f\"total accepted: {len(url_dict)}\")\n",
    "print(manual_tag)"
   ]
  },
  {
   "cell_type": "code",
   "execution_count": 7,
   "metadata": {},
   "outputs": [
    {
     "name": "stdout",
     "output_type": "stream",
     "text": [
      "total processed: 470\n",
      "total accepted: 470\n"
     ]
    }
   ],
   "source": [
    "def convert_rating(mylist, tag):\n",
    "    rating = [d[tag] for d in mylist]\n",
    "    total = []\n",
    "    for i in range(len(rating)):\n",
    "        if rating[i] == \"very_high\": total.append(5)\n",
    "        elif rating[i] == \"high\":    total.append(4)\n",
    "        elif rating[i] == \"neutral\": total.append(3)\n",
    "        elif rating[i] == \"low\":     total.append(2)\n",
    "        elif rating[i] == \"very_low\": total.append(1)    \n",
    "    avg = statistics.mean(total)\n",
    "    return avg\n",
    "\n",
    "creation = [\"theme_creation_object\", \"theme_creation_performance\", \"knowledge\"]\n",
    "participation = [\"planting_trees\", \"donating\"]\n",
    "connection_comment = [\"spread_word\", \"comment_news\", \"live_stream_stat\", \"comment_video\"]\n",
    "connection_game=[\"live_stream_game\"]\n",
    "\n",
    "def merge_cat(cat):\n",
    "    \n",
    "    category = \"Other\" #not_recognized\n",
    "    \n",
    "    if (cat in creation):\n",
    "        category = \"Creation\"\n",
    "    elif (cat in participation):\n",
    "        category = \"Participation\"\n",
    "    elif (cat in connection_comment):\n",
    "        category = \"Connection_comment\"\n",
    "    elif (cat in connection_game):\n",
    "        category = \"Connection_game\"\n",
    "    return category\n",
    "\n",
    "def isMentioned(mylist, tag):\n",
    "    count_cat = sum([float(d[tag]) for d in mylist])\n",
    "    if (count_cat >= MAJORITY):\n",
    "        return 1\n",
    "    else: return 0\n",
    "\n",
    "url_temp = {}\n",
    "rejected_url = []\n",
    "URL_COUNT = 3 #number of acceptable tasks per link\n",
    "MAJORITY = math.ceil(URL_COUNT/2)\n",
    "celeb_name = [\"mrbeast\", \"arborday\", \"teamtrees_org\",\"noteble_youtuber\",\"noteble_entrepreneur\"]\n",
    "\n",
    "for url, l in url_dict.items():\n",
    "    category = [c[\"category\"] for c in l]\n",
    "    is_unique = len(set(category)) == len(category) #converts list to set to check if they're unique\n",
    "    if (is_unique):\n",
    "        for tup in manual_tag:\n",
    "            if (tup[0] == url):\n",
    "                cat = tup[1]\n",
    "    else:\n",
    "        cat = (Counter(category).most_common(1)[0])[0]\n",
    "    \n",
    "    url_temp[url] = {\n",
    "        \"VIDEO_URL\": l[0][\"VIDEO_URL\"],\n",
    "        \"tagging\": cat,\n",
    "        \"merged_tagging\" : merge_cat(cat),\n",
    "        \"quality\": convert_rating(l, \"quality\"),\n",
    "        \"creativity\": convert_rating(l, \"creativity\"),\n",
    "        \"awareness\": convert_rating(l, \"awareness\")\n",
    "    }\n",
    "    mention_count = 0\n",
    "    for name in celeb_name:\n",
    "        is_mentioned = isMentioned(l,name)\n",
    "        url_temp[url][name] = \"y\" if is_mentioned == 1 else \"n\" \n",
    "        mention_count+= is_mentioned\n",
    "    url_temp[url][\"mention_count\"] = mention_count    \n",
    "\n",
    "print(f\"total processed: {len(url_dict)}\")\n",
    "print(f\"total accepted: {len(url_temp)}\")\n"
   ]
  },
  {
   "cell_type": "code",
   "execution_count": 8,
   "metadata": {},
   "outputs": [
    {
     "name": "stdout",
     "output_type": "stream",
     "text": [
      "It works I guess\n"
     ]
    }
   ],
   "source": [
    "try:\n",
    "   os.mkdir(result_path)\n",
    "except OSError as e:\n",
    "   print(\"It works I guess\")\n",
    "\n",
    "with open(result_path + \"final_accepted_taggings.csv\", mode='w', encoding=\"utf-8\") as csv_result:\n",
    "    csv_writer = csv.writer(csv_result,\n",
    "                            delimiter = \",\",\n",
    "                            quotechar = '\"',\n",
    "                            quoting = csv.QUOTE_MINIMAL,\n",
    "                           lineterminator = \"\\n\")\n",
    "    isFirst=True\n",
    "    for v in url_temp.values():\n",
    "        if isFirst:\n",
    "            csv_writer.writerow(v.keys())\n",
    "            isFirst=False\n",
    "        csv_writer.writerow(v.values())\n",
    "        \n"
   ]
  }
 ],
 "metadata": {
  "kernelspec": {
   "display_name": "Python 3",
   "language": "python",
   "name": "python3"
  },
  "language_info": {
   "codemirror_mode": {
    "name": "ipython",
    "version": 3
   },
   "file_extension": ".py",
   "mimetype": "text/x-python",
   "name": "python",
   "nbconvert_exporter": "python",
   "pygments_lexer": "ipython3",
   "version": "3.7.4"
  }
 },
 "nbformat": 4,
 "nbformat_minor": 2
}
