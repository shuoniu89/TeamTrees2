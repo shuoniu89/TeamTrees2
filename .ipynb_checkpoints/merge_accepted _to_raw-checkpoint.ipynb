{
 "cells": [
  {
   "cell_type": "code",
   "execution_count": 5,
   "metadata": {},
   "outputs": [
    {
     "name": "stdout",
     "output_type": "stream",
     "text": [
      "total video: 471\n",
      "total accepted video: 364\n"
     ]
    }
   ],
   "source": [
    "#@author Mai\n",
    "#question: I'm sure there's a more elegant way to do this and I want to know..\n",
    "#@version: 2/8/20\n",
    "import csv \n",
    "import os\n",
    "import json\n",
    "from collections import defaultdict\n",
    "\n",
    "data = []\n",
    "wrong_data=[]\n",
    "with open(\"KEY/video_meta_data.csv\",\"r+\", encoding=\"utf-8\") as csv_file:\n",
    "    csv_reader = csv.DictReader(csv_file)\n",
    "    for row in csv_reader:\n",
    "        data.append(row)\n",
    "\n",
    "with open(\"KEY/broken_data.csv\", encoding=\"utf-8\") as fp:\n",
    "    csv_reader = csv.DictReader(fp)\n",
    "    for row in csv_reader:\n",
    "        wrong_data.append(row)\n",
    "\n",
    "wrong_data=[d[\"video_url\"] for d in wrong_data]\n",
    "data = [d for d in data if d[\"emb_url\"] not in wrong_data]\n",
    "\n",
    "url_dict = defaultdict(list)\n",
    "for d in data:\n",
    "    url_dict[d[\"emb_url\"]].append(d)\n",
    "\n",
    "print(f\"total video: {len(url_dict)}\")\n",
    "\n",
    "accepted_data = []\n",
    "result_path = \"./KEY/\"\n",
    "with open(result_path + \"accepted_taggings.csv\",\"r+\", encoding=\"utf-8\") as csv_file:\n",
    "    csv_reader = csv.DictReader(csv_file)\n",
    "    for row in csv_reader:\n",
    "        accepted_data.append(row)\n",
    "#print(accepted_data[0].items())\n",
    "#print(accepted_data)\n",
    "#print(list(accepted_data[0].items())[0:3])\n",
    "\n",
    "accepted_url = [d[\"VIDEO_URL\"] for d in accepted_data]\n",
    "\n",
    "#Rationale: d is a dictionary of the url we want from the accepted_data\n",
    "#list_temp is a list of tupels from 3-10 (index of all the tags we want)\n",
    "#then we loop from 3-10 to add to url_dict. url_dict[url] is a list of one dictionary hence url_dict[url][0]\n",
    "#list_temp[i][0] is the name tag, list_temp[i][1] is the value\n",
    "for url, l in url_dict.items():\n",
    "    if (url in accepted_url):\n",
    "        for d in accepted_data:\n",
    "            if (d[\"VIDEO_URL\"] == url):\n",
    "                list_temp = list(d.items())[1:11]\n",
    "                for i in range(len(list_temp)):\n",
    "                    url_dict[url][0][list_temp[i][0]]= list_temp[i][1]\n",
    "# print(json.dumps(url_dict, indent = 2))\n",
    "print(f\"total accepted video: {len(accepted_url)}\")"
   ]
  },
  {
   "cell_type": "code",
   "execution_count": 30,
   "metadata": {},
   "outputs": [],
   "source": [
    "#@author Mai\n",
    "with open(\"KEY/meta_all_processed.csv\", mode='w', encoding=\"utf-8\") as csv_result:\n",
    "    csv_writer = csv.writer(csv_result,\n",
    "                            delimiter = \",\",\n",
    "                            quotechar = '\"',\n",
    "                            quoting = csv.QUOTE_MINIMAL,\n",
    "                            lineterminator = \"\\n\")\n",
    "#     tags = [\"mrbeast\",\"arborday\",\"teamtrees_org\",\"noteble_youtuber\",\n",
    "#             \"noteble_entrepreneur\",\"quality\",\"creativity\",\"awareness\"]\n",
    "\n",
    "    isFirst = True\n",
    "    for i in data:\n",
    "        if isFirst:\n",
    "#             header = list(i) + tags\n",
    "            header = list(i)\n",
    "            csv_writer.writerow(header)\n",
    "            isFirst = False\n",
    "        csv_writer.writerow(i.values())"
   ]
  }
 ],
 "metadata": {
  "kernelspec": {
   "display_name": "Python 3",
   "language": "python",
   "name": "python3"
  },
  "language_info": {
   "codemirror_mode": {
    "name": "ipython",
    "version": 3
   },
   "file_extension": ".py",
   "mimetype": "text/x-python",
   "name": "python",
   "nbconvert_exporter": "python",
   "pygments_lexer": "ipython3",
   "version": "3.7.4"
  }
 },
 "nbformat": 4,
 "nbformat_minor": 2
}
