{
 "cells": [
  {
   "cell_type": "code",
   "execution_count": 2,
   "metadata": {},
   "outputs": [
    {
     "name": "stdout",
     "output_type": "stream",
     "text": [
      "total videos:518\n",
      "total youtubers:473\n",
      "colums:video_id,title,video_length,publish_at,category_id,category,language,live_content,description,tags,comment_count,view_count,like_count,dislike_count,emb_url,channel_name,subscriber_count,status,vw_ct,cmnt_ct,day_vw,day_cmnt,rel_vw,rel_like\n"
     ]
    }
   ],
   "source": [
    "# @author: Niu\n",
    "# convert the teamtrees_network.json to csv file.\n",
    "# One row for each video\n",
    "\n",
    "import json\n",
    "import datetime\n",
    "import dateutil\n",
    "import pytz\n",
    "import math\n",
    "import matplotlib as mpl\n",
    "import matplotlib.pyplot as plt\n",
    "import matplotlib.dates as mdates\n",
    "import numpy as np\n",
    "import csv\n",
    "from datetime import datetime, timezone\n",
    "from datetime import timedelta\n",
    "import dateutil.parser\n",
    "\n",
    "def get_status(sub):\n",
    "    if sub>=1000000:\n",
    "        return \"celebrity\"\n",
    "    elif 10000<=sub<1000000:\n",
    "        return \"professional\"\n",
    "    else:\n",
    "        return \"amateur\"\n",
    "    \n",
    "youtuber_list_path=\"KEY/teamtrees_network.json\"\n",
    "\n",
    "def get_video_days(day_str):\n",
    "    video_date = dateutil.parser.parse(day_str)\n",
    "    crawl_date=datetime(2020, 1, 8, tzinfo=timezone.utc)\n",
    "    delta = crawl_date - video_date\n",
    "    return delta.days\n",
    "\n",
    "data=[]\n",
    "with open(youtuber_list_path,'r') as fp:\n",
    "    youtubers=json.loads(fp.read())[\"nodes\"]\n",
    "    for you in youtubers:\n",
    "        channel_name=you[\"channel_name\"]\n",
    "        for video in you[\"video_list\"]:\n",
    "            del video[\"caption\"]\n",
    "            del video[\"comment_list\"]\n",
    "            video[\"emb_url\"]=\"https://www.youtube.com/embed/\"+video[\"video_id\"]+\"?autoplay=0\"\n",
    "            video[\"channel_name\"]=channel_name\n",
    "            video[\"tags\"]=\",\".join([\"\\\"\"+t+\"\\\"\" for t in video[\"tags\"]])\n",
    "            video[\"subscriber_count\"]=you[\"subscriber_count\"]\n",
    "            video[\"status\"]=get_status(you[\"subscriber_count\"])\n",
    "            video[\"vw_ct\"]=video[\"view_count\"]           \n",
    "            video[\"cmnt_ct\"]=video[\"comment_count\"]\n",
    "            video[\"day_vw\"]=video[\"view_count\"]  /get_video_days(video[\"publish_at\"])         \n",
    "            video[\"day_cmnt\"]=video[\"comment_count\"] /get_video_days(video[\"publish_at\"])\n",
    "            video[\"rel_vw\"]=video[\"view_count\"]*you[\"video_count\"]/you[\"view_count\"]\n",
    "            video[\"rel_like\"]=(video[\"like_count\"]-video[\"dislike_count\"])*100/(video[\"view_count\"]+1)\n",
    "\n",
    "            data.append(video)\n",
    "            \n",
    "        \n",
    "youtuber_save_path=\"KEY/video_meta_data.csv\"\n",
    "with open(youtuber_save_path, mode='w+', encoding=\"utf-8\", newline='') as fp:\n",
    "    csv_writer = csv.writer(fp, delimiter=',', quotechar='\"', quoting=csv.QUOTE_MINIMAL)\n",
    "    first = True\n",
    "    for v in data:\n",
    "        if first:\n",
    "            csv_writer.writerow([key for key, value in v.items()])\n",
    "            first = False\n",
    "        csv_writer.writerow([value for key, value in v.items()])\n",
    "        \n",
    "print(f\"total videos:{len(data)}\")\n",
    "print(f\"total youtubers:{len(youtubers)}\")\n",
    "print(f\"colums:{','.join(data[0].keys())}\")"
   ]
  },
  {
   "cell_type": "code",
   "execution_count": 20,
   "metadata": {},
   "outputs": [
    {
     "name": "stdout",
     "output_type": "stream",
     "text": [
      "{\"celebrity\": 153962466.0, \"professional\": 14623376.0, \"amateur\": 437576.0}\n",
      "0.9108942880329163\n"
     ]
    }
   ],
   "source": [
    "from collections import defaultdict\n",
    "\n",
    "li=defaultdict(float)\n",
    "for d in data:\n",
    "    li[d[\"status\"]]+=d[\"view_count\"]\n",
    "print(json.dumps(li))\n",
    "print(li[\"celebrity\"]/sum(li.values()))"
   ]
  }
 ],
 "metadata": {
  "kernelspec": {
   "display_name": "Python 3",
   "language": "python",
   "name": "python3"
  },
  "language_info": {
   "codemirror_mode": {
    "name": "ipython",
    "version": 3
   },
   "file_extension": ".py",
   "mimetype": "text/x-python",
   "name": "python",
   "nbconvert_exporter": "python",
   "pygments_lexer": "ipython3",
   "version": "3.7.4"
  }
 },
 "nbformat": 4,
 "nbformat_minor": 2
}
