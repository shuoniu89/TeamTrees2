{
 "cells": [
  {
   "cell_type": "code",
   "execution_count": 6,
   "metadata": {},
   "outputs": [
    {
     "name": "stdout",
     "output_type": "stream",
     "text": [
      "{\n",
      "    \"Entertainment\": 129,\n",
      "    \"Film & Animation\": 41,\n",
      "    \"Science & Technology\": 41,\n",
      "    \"Gaming\": 152,\n",
      "    \"Howto & Style\": 19,\n",
      "    \"Education\": 52,\n",
      "    \"News & Politics\": 5,\n",
      "    \"Music\": 11,\n",
      "    \"Comedy\": 28,\n",
      "    \"People & Blogs\": 63,\n",
      "    \"Pets & Animals\": 5,\n",
      "    \"Nonprofits & Activism\": 22,\n",
      "    \"Travel & Events\": 3,\n",
      "    \"Autos & Vehicles\": 1,\n",
      "    \"Sports\": 1\n",
      "}\n"
     ]
    }
   ],
   "source": [
    "import json\n",
    "import datetime\n",
    "import dateutil\n",
    "import pytz\n",
    "import math\n",
    "import matplotlib as mpl\n",
    "import matplotlib.pyplot as plt\n",
    "import matplotlib.dates as mdates\n",
    "import numpy as np\n",
    "import csv\n",
    "import gensim\n",
    "from gensim.utils import simple_preprocess\n",
    "from gensim.parsing.preprocessing import STOPWORDS\n",
    "from nltk.stem import WordNetLemmatizer, SnowballStemmer\n",
    "from nltk.stem.porter import *\n",
    "import numpy as np\n",
    "import nltk\n",
    "from datetime import datetime\n",
    "from datetime import timedelta\n",
    "import dateutil.parser\n",
    "youtuber_list_path=\"subscriber_network.json\"\n",
    "\n",
    "category={}\n",
    "with open(youtuber_list_path, 'r') as fp:\n",
    "    data=json.loads(fp.read())[\"nodes\"]\n",
    "    counter=0\n",
    "    counter_t=0\n",
    "    for d in data:\n",
    "        for v in d[\"video_list\"]:\n",
    "            if v[\"video_category\"] not in category:\n",
    "                category[v[\"video_category\"]]=0\n",
    "            category[v[\"video_category\"]]+=1\n",
    "    print(json.dumps(category, indent=4))\n",
    "                \n",
    "\n",
    "\n",
    "        \n"
   ]
  },
  {
   "cell_type": "code",
   "execution_count": null,
   "metadata": {},
   "outputs": [],
   "source": []
  }
 ],
 "metadata": {
  "kernelspec": {
   "display_name": "Python 3",
   "language": "python",
   "name": "python3"
  },
  "language_info": {
   "codemirror_mode": {
    "name": "ipython",
    "version": 3
   },
   "file_extension": ".py",
   "mimetype": "text/x-python",
   "name": "python",
   "nbconvert_exporter": "python",
   "pygments_lexer": "ipython3",
   "version": "3.7.4"
  }
 },
 "nbformat": 4,
 "nbformat_minor": 2
}
