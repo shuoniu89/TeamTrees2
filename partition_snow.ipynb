{
 "cells": [
  {
   "cell_type": "code",
   "execution_count": 8,
   "metadata": {},
   "outputs": [],
   "source": [
    "import pandas as pd\n",
    "import random\n",
    "\n",
    "n = 30\n",
    "ROUND = 2\n",
    "#read tagged urls\n",
    "df_tagged = pd.read_csv(\"snowtagged.csv\")\n",
    "tagged_url_list = [i.replace(\"https://www.youtube.com/watch?v=\",\"\") for i in df_tagged.video_url]\n",
    "\n",
    "#read from final data and shuffle video id list, removing invalid id and tagged id\n",
    "df = pd.read_csv(\"FINAL_DATA.csv\")\n",
    "cols = [\"video_url\",\n",
    "        \"diagnostic (problem)\",\n",
    "        \"prognostic (plan of attack)\",\n",
    "        \"motivation (call to arms)\"]\n",
    "\n",
    "videoid = list(df.video_id)\n",
    "random.shuffle(videoid)\n",
    "videoid = [i for i in videoid if i is not \"#NAME?\" and i not in tagged_url_list]\n",
    "\n",
    "#convert to df and save to csv, add them to snowtagged.csv\n",
    "cat_ids = [i for i in videoid[:n]]\n",
    "niu_ids = [i for i in videoid[n:n*2]]\n",
    "kathy_ids = [i for i in videoid[n*2:(n*2)+20]]\n",
    "\n",
    "df_cat = pd.DataFrame([[\"https://www.youtube.com/watch?v=\"+i for i in cat_ids],[],[],[]]).transpose()\n",
    "df_niu = pd.DataFrame([[\"https://www.youtube.com/watch?v=\"+i for i in niu_ids],[],[],[]]).transpose()\n",
    "df_kathy = pd.DataFrame([[\"https://www.youtube.com/watch?v=\"+i for i in kathy_ids],[],[],[]]).transpose()\n",
    "df_cat.columns = cols\n",
    "df_niu.columns = cols\n",
    "df_kathy.columns = cols\n",
    "df_cat.to_csv(f\"SnowTagging_Cat_ROUND{ROUND}.csv\", index=False)\n",
    "df_niu.to_csv(f\"SnowTagging_Niu_ROUND{ROUND}.csv\", index=False)\n",
    "df_kathy.to_csv(f\"SnowTagging_Kathy_ROUND{ROUND}.csv\", index=False)\n",
    "\n",
    "new_ids = [\"https://www.youtube.com/watch?v=\"+i for i in cat_ids + niu_ids + kathy_ids]\n",
    "df_new = pd.DataFrame(new_ids, columns=[\"video_url\"])\n",
    "df_new.to_csv(\"snowtagged.csv\", mode='a', header=False, index=False)"
   ]
  }
 ],
 "metadata": {
  "kernelspec": {
   "display_name": "Python 3",
   "language": "python",
   "name": "python3"
  },
  "language_info": {
   "codemirror_mode": {
    "name": "ipython",
    "version": 3
   },
   "file_extension": ".py",
   "mimetype": "text/x-python",
   "name": "python",
   "nbconvert_exporter": "python",
   "pygments_lexer": "ipython3",
   "version": "3.7.6"
  }
 },
 "nbformat": 4,
 "nbformat_minor": 4
}
