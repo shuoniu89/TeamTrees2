{
 "cells": [
  {
   "cell_type": "code",
   "execution_count": 1,
   "metadata": {},
   "outputs": [],
   "source": [
    "#@author Mai\n",
    "#@version: 2/6/20\n",
    "#used Dr Niu's isFirst in writing csv. Updated url_count and majority variables\n",
    "#it worked then didn't work again.. I think the problem is it didn't have enough memory\n",
    "# because when I limit the filename.endwiths(\"en0.csv\") or 8.csv it worked.\n",
    "\n",
    "import csv\n",
    "import os\n",
    "import statistics\n",
    "import math\n",
    "from collections import defaultdict\n",
    "from collections import Counter\n",
    "\n",
    "directory=\"./data_tagging_j8\" #use your own directory path (I saved all the csv in a separate folder called data)\n",
    "data = []\n",
    "for filename in os.listdir(directory):\n",
    "    if filename.endswith(\".csv\"):\n",
    "        with open(directory+\"/\"+filename, mode = \"r+\", encoding=\"utf-8\") as csv_file:\n",
    "            csv_reader = csv.DictReader(csv_file)\n",
    "            for row in csv_reader:\n",
    "                data.append(row)\n",
    "    else:\n",
    "        pass\n",
    "\n",
    "wrong_data=[]\n",
    "with open(\"KEY/broken_data.csv\", encoding=\"utf-8\") as csv_file:\n",
    "    csv_reader = csv.DictReader(csv_file)\n",
    "    for row in csv_reader:\n",
    "        wrong_data.append(row)\n",
    "\n",
    "wrong_data=[d[\"video_url\"] for d in wrong_data]\n",
    "#print(wrong_data)\n",
    "ok = [d for d in data\n",
    "      if d[\"STATUS\"] == \"OK\" and d[\"VIDEO_URL\"] not in wrong_data]\n",
    "\n",
    "all_accepted = []\n",
    "keys=ok[-1].keys()\n",
    "for d in ok:\n",
    "    std_data={k:d[k] for k in keys}\n",
    "    all_accepted.append(std_data)\n",
    "\n",
    "all_accepted.sort(key=lambda x:x[\"VIDEO_URL\"])\n",
    "\n",
    "with open(\"KEY/raw_accepted_taggings.csv\", mode='w', encoding=\"utf-8\") as csv_result:\n",
    "    csv_writer = csv.writer(csv_result,\n",
    "                            delimiter = \",\",\n",
    "                            quotechar = '\"',\n",
    "                            quoting = csv.QUOTE_MINIMAL,\n",
    "                           lineterminator = \"\\n\")\n",
    "    isFirst=True\n",
    "    for v in all_accepted:\n",
    "        if isFirst:\n",
    "            csv_writer.writerow(v.keys())\n",
    "            isFirst=False\n",
    "        csv_writer.writerow(v.values())"
   ]
  }
 ],
 "metadata": {
  "kernelspec": {
   "display_name": "Python 3",
   "language": "python",
   "name": "python3"
  },
  "language_info": {
   "codemirror_mode": {
    "name": "ipython",
    "version": 3
   },
   "file_extension": ".py",
   "mimetype": "text/x-python",
   "name": "python",
   "nbconvert_exporter": "python",
   "pygments_lexer": "ipython3",
   "version": "3.7.4"
  }
 },
 "nbformat": 4,
 "nbformat_minor": 2
}
